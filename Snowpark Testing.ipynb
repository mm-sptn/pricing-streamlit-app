{
 "cells": [
  {
   "cell_type": "code",
   "execution_count": null,
   "id": "2810bc90",
   "metadata": {},
   "outputs": [],
   "source": [
    "from snowflake.snowpark import Session\n",
    "from snowflake.snowpark.functions import col, to_date\n",
    "import pandas as pd\n",
    "from datetime import datetime, timedelta\n",
    "from utils.session import get_cached_session\n",
    "from datetime import date, timedelta"
   ]
  },
  {
   "cell_type": "code",
   "execution_count": 4,
   "id": "e44ff0eb",
   "metadata": {},
   "outputs": [],
   "source": [
    "today = date.today()\n",
    "days_since_saturday = (today.weekday() - 5) % 7\n",
    "default_date = today - timedelta(days=days_since_saturday)"
   ]
  },
  {
   "cell_type": "code",
   "execution_count": 5,
   "id": "fa4c05ac",
   "metadata": {},
   "outputs": [
    {
     "name": "stderr",
     "output_type": "stream",
     "text": [
      "2025-08-21 15:13:38.582 WARNING streamlit.runtime.scriptrunner_utils.script_run_context: Thread 'MainThread': missing ScriptRunContext! This warning can be ignored when running in bare mode.\n",
      "2025-08-21 15:13:39.523 \n",
      "  \u001b[33m\u001b[1mWarning:\u001b[0m to view this Streamlit app on a browser, run it with the following\n",
      "  command:\n",
      "\n",
      "    streamlit run c:\\Users\\212739\\OneDrive - SpartanNash\\Documents\\Data\\Streamlit\\Pricing App\\.venv\\lib\\site-packages\\ipykernel_launcher.py [ARGUMENTS]\n",
      "2025-08-21 15:13:39.526 Thread 'MainThread': missing ScriptRunContext! This warning can be ignored when running in bare mode.\n",
      "2025-08-21 15:13:39.527 Thread 'MainThread': missing ScriptRunContext! This warning can be ignored when running in bare mode.\n",
      "2025-08-21 15:13:39.528 Thread 'MainThread': missing ScriptRunContext! This warning can be ignored when running in bare mode.\n",
      "2025-08-21 15:13:40.033 Thread 'Thread-7': missing ScriptRunContext! This warning can be ignored when running in bare mode.\n",
      "2025-08-21 15:13:40.035 Thread 'Thread-7': missing ScriptRunContext! This warning can be ignored when running in bare mode.\n",
      "2025-08-21 15:13:40.035 Thread 'Thread-7': missing ScriptRunContext! This warning can be ignored when running in bare mode.\n",
      "2025-08-21 15:13:44.648 Thread 'MainThread': missing ScriptRunContext! This warning can be ignored when running in bare mode.\n",
      "2025-08-21 15:13:44.650 Thread 'MainThread': missing ScriptRunContext! This warning can be ignored when running in bare mode.\n",
      "2025-08-21 15:13:44.650 Thread 'MainThread': missing ScriptRunContext! This warning can be ignored when running in bare mode.\n"
     ]
    }
   ],
   "source": [
    "session = get_cached_session()"
   ]
  },
  {
   "cell_type": "code",
   "execution_count": null,
   "id": "54124a4d",
   "metadata": {},
   "outputs": [
    {
     "ename": "NameError",
     "evalue": "name 'to_date' is not defined",
     "output_type": "error",
     "traceback": [
      "\u001b[1;31m---------------------------------------------------------------------------\u001b[0m",
      "\u001b[1;31mNameError\u001b[0m                                 Traceback (most recent call last)",
      "Cell \u001b[1;32mIn[6], line 2\u001b[0m\n\u001b[0;32m      1\u001b[0m item_prices_df \u001b[38;5;241m=\u001b[39m session\u001b[38;5;241m.\u001b[39mtable(\u001b[38;5;124m'\u001b[39m\u001b[38;5;124mEDL.PHQ.ITEM_PRICE\u001b[39m\u001b[38;5;124m'\u001b[39m)\u001b[38;5;241m.\u001b[39mfilter(\n\u001b[1;32m----> 2\u001b[0m     (default_date \u001b[38;5;241m>\u001b[39m\u001b[38;5;241m=\u001b[39m \u001b[43mto_date\u001b[49m(col(\u001b[38;5;124m'\u001b[39m\u001b[38;5;124mIP_START_DATE\u001b[39m\u001b[38;5;124m'\u001b[39m))) \u001b[38;5;241m&\u001b[39m \n\u001b[0;32m      3\u001b[0m     (default_date \u001b[38;5;241m<\u001b[39m\u001b[38;5;241m=\u001b[39m to_date(col(\u001b[38;5;124m'\u001b[39m\u001b[38;5;124mIP_END_DATE\u001b[39m\u001b[38;5;124m'\u001b[39m))) \u001b[38;5;241m&\u001b[39m\n\u001b[0;32m      4\u001b[0m     (col(\u001b[38;5;124m'\u001b[39m\u001b[38;5;124mPRICE_STRATEGY\u001b[39m\u001b[38;5;124m'\u001b[39m) \u001b[38;5;241m==\u001b[39m \u001b[38;5;241m11\u001b[39m) \u001b[38;5;241m&\u001b[39m \n\u001b[0;32m      5\u001b[0m     (col(\u001b[38;5;124m'\u001b[39m\u001b[38;5;124mRECORD_STATUS\u001b[39m\u001b[38;5;124m'\u001b[39m) \u001b[38;5;241m!=\u001b[39m \u001b[38;5;241m3\u001b[39m)\n\u001b[0;32m      6\u001b[0m )\n",
      "\u001b[1;31mNameError\u001b[0m: name 'to_date' is not defined"
     ]
    }
   ],
   "source": [
    "item_prices_df = session.table('EDL.PHQ.ITEM_PRICE').filter(\n",
    "    (default_date >= to_date(col('IP_START_DATE'))) & \n",
    "    (default_date <= to_date(col('IP_END_DATE'))) &\n",
    "    (col('PRICE_STRATEGY') == 11) & \n",
    "    (col('RECORD_STATUS') != 3)\n",
    ")"
   ]
  }
 ],
 "metadata": {
  "kernelspec": {
   "display_name": ".venv",
   "language": "python",
   "name": "python3"
  },
  "language_info": {
   "codemirror_mode": {
    "name": "ipython",
    "version": 3
   },
   "file_extension": ".py",
   "mimetype": "text/x-python",
   "name": "python",
   "nbconvert_exporter": "python",
   "pygments_lexer": "ipython3",
   "version": "3.10.11"
  }
 },
 "nbformat": 4,
 "nbformat_minor": 5
}
