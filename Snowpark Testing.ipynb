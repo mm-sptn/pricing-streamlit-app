{
 "cells": [
  {
   "cell_type": "code",
   "execution_count": 15,
   "id": "2810bc90",
   "metadata": {},
   "outputs": [],
   "source": [
    "from snowflake.snowpark import Session\n",
    "from snowflake.snowpark.functions import col, to_date, coalesce, lit, mode, when, count\n",
    "import pandas as pd\n",
    "from datetime import datetime, timedelta\n",
    "from utils.session import get_cached_session, get_session\n",
    "from datetime import date, timedelta"
   ]
  },
  {
   "cell_type": "code",
   "execution_count": 2,
   "id": "848f65e2",
   "metadata": {},
   "outputs": [],
   "source": [
    "session = get_session()"
   ]
  },
  {
   "cell_type": "code",
   "execution_count": 19,
   "id": "be9a5e2b",
   "metadata": {},
   "outputs": [
    {
     "data": {
      "text/html": [
       "<div>\n",
       "<style scoped>\n",
       "    .dataframe tbody tr th:only-of-type {\n",
       "        vertical-align: middle;\n",
       "    }\n",
       "\n",
       "    .dataframe tbody tr th {\n",
       "        vertical-align: top;\n",
       "    }\n",
       "\n",
       "    .dataframe thead th {\n",
       "        text-align: right;\n",
       "    }\n",
       "</style>\n",
       "<table border=\"1\" class=\"dataframe\">\n",
       "  <thead>\n",
       "    <tr style=\"text-align: right;\">\n",
       "      <th></th>\n",
       "      <th>ZONEGROUPCODE</th>\n",
       "      <th>ZONEGROUPNAME</th>\n",
       "      <th>ZONECODE</th>\n",
       "      <th>ZONENAME</th>\n",
       "      <th>STORECODE</th>\n",
       "      <th>PRIMARYIND</th>\n",
       "    </tr>\n",
       "  </thead>\n",
       "  <tbody>\n",
       "    <tr>\n",
       "      <th>0</th>\n",
       "      <td>1</td>\n",
       "      <td>Base</td>\n",
       "      <td>1</td>\n",
       "      <td>SB AND ELKHART</td>\n",
       "      <td>2304</td>\n",
       "      <td>NaN</td>\n",
       "    </tr>\n",
       "    <tr>\n",
       "      <th>1</th>\n",
       "      <td>1</td>\n",
       "      <td>Base</td>\n",
       "      <td>1</td>\n",
       "      <td>SB AND ELKHART</td>\n",
       "      <td>2306</td>\n",
       "      <td>NaN</td>\n",
       "    </tr>\n",
       "    <tr>\n",
       "      <th>2</th>\n",
       "      <td>1</td>\n",
       "      <td>Base</td>\n",
       "      <td>1</td>\n",
       "      <td>SB AND ELKHART</td>\n",
       "      <td>2310</td>\n",
       "      <td>NaN</td>\n",
       "    </tr>\n",
       "    <tr>\n",
       "      <th>3</th>\n",
       "      <td>1</td>\n",
       "      <td>Base</td>\n",
       "      <td>1</td>\n",
       "      <td>SB AND ELKHART</td>\n",
       "      <td>2311</td>\n",
       "      <td>NaN</td>\n",
       "    </tr>\n",
       "    <tr>\n",
       "      <th>4</th>\n",
       "      <td>1</td>\n",
       "      <td>Base</td>\n",
       "      <td>1</td>\n",
       "      <td>SB AND ELKHART</td>\n",
       "      <td>2312</td>\n",
       "      <td>NaN</td>\n",
       "    </tr>\n",
       "    <tr>\n",
       "      <th>5</th>\n",
       "      <td>1</td>\n",
       "      <td>Base</td>\n",
       "      <td>1</td>\n",
       "      <td>SB AND ELKHART</td>\n",
       "      <td>2314</td>\n",
       "      <td>NaN</td>\n",
       "    </tr>\n",
       "    <tr>\n",
       "      <th>6</th>\n",
       "      <td>1</td>\n",
       "      <td>Base</td>\n",
       "      <td>1</td>\n",
       "      <td>SB AND ELKHART</td>\n",
       "      <td>2315</td>\n",
       "      <td>NaN</td>\n",
       "    </tr>\n",
       "    <tr>\n",
       "      <th>7</th>\n",
       "      <td>1</td>\n",
       "      <td>Base</td>\n",
       "      <td>1</td>\n",
       "      <td>SB AND ELKHART</td>\n",
       "      <td>2316</td>\n",
       "      <td>NaN</td>\n",
       "    </tr>\n",
       "    <tr>\n",
       "      <th>8</th>\n",
       "      <td>1</td>\n",
       "      <td>Base</td>\n",
       "      <td>1</td>\n",
       "      <td>SB AND ELKHART</td>\n",
       "      <td>2317</td>\n",
       "      <td>NaN</td>\n",
       "    </tr>\n",
       "    <tr>\n",
       "      <th>9</th>\n",
       "      <td>1</td>\n",
       "      <td>Base</td>\n",
       "      <td>1</td>\n",
       "      <td>SB AND ELKHART</td>\n",
       "      <td>2324</td>\n",
       "      <td>NaN</td>\n",
       "    </tr>\n",
       "  </tbody>\n",
       "</table>\n",
       "</div>"
      ],
      "text/plain": [
       "   ZONEGROUPCODE ZONEGROUPNAME  ZONECODE        ZONENAME  STORECODE  PRIMARYIND\n",
       "0              1          Base         1  SB AND ELKHART       2304         NaN\n",
       "1              1          Base         1  SB AND ELKHART       2306         NaN\n",
       "2              1          Base         1  SB AND ELKHART       2310         NaN\n",
       "3              1          Base         1  SB AND ELKHART       2311         NaN\n",
       "4              1          Base         1  SB AND ELKHART       2312         NaN\n",
       "5              1          Base         1  SB AND ELKHART       2314         NaN\n",
       "6              1          Base         1  SB AND ELKHART       2315         NaN\n",
       "7              1          Base         1  SB AND ELKHART       2316         NaN\n",
       "8              1          Base         1  SB AND ELKHART       2317         NaN\n",
       "9              1          Base         1  SB AND ELKHART       2324         NaN"
      ]
     },
     "execution_count": 19,
     "metadata": {},
     "output_type": "execute_result"
    }
   ],
   "source": [
    "zg_df.limit(10).to_pandas()"
   ]
  },
  {
   "cell_type": "code",
   "execution_count": null,
   "id": "4f103033",
   "metadata": {},
   "outputs": [],
   "source": [
    "ip_df = session.table('edl.phq.item_price')\n",
    "irpd_df = session.table('edl.phq.item_retail_price_dt')\n",
    "im_df = session.table('edl.phq.item_master')\n",
    "pt_df = session.table('edl.phq.price_type')\n",
    "zg_df = session.table('edl.phq.sn_rev_zonegrp')\n",
    "item_df = session.table('edw.rtl.retail_item_vw')\n",
    "\n",
    "#joins\n",
    "df = irpd_df.join(\n",
    "    ip_df,\n",
    "    irpd_df['item_price_id'] == ip_df['item_price_id'],\n",
    "    how = 'inner'\n",
    ").join(\n",
    "    im_df,\n",
    "    ip_df['item_id'] == im_df['item_id'],\n",
    "    how = 'inner'\n",
    ").join(\n",
    "    item_df,\n",
    "    im_df['upc_ean'] == item_df['product_upc_13_cd'],\n",
    "    how = 'inner'\n",
    ").join(\n",
    "    pt_df,\n",
    "    irpd_df['pt_type'] == pt_df['pt_type'],\n",
    "    how = 'inner'\n",
    ").join(\n",
    "    zg_df,\n",
    "    irpd_df['store_id'] == zg_df['storecode']\n",
    ")\n",
    "\n",
    "#filters\n",
    "df = df.filter(\n",
    "    #(irpd_df['ip_start_date'] <= default_date) &\n",
    "    #(irpd_df['ip_end_date'] >= default_date) &\n",
    "    #(pt_df['pt_type'] == '1') &\n",
    "    (ip_df['price_strategy'] != 0) &\n",
    "    (zg_df['zonecode'] == 1) &\n",
    "    (zg_df['zonegroupcode'] == 1)\n",
    ").select(\n",
    "    zg_df['zonename'],\n",
    "    item_df['product_upc_13_cd'],\n",
    "    irpd_df['v_id'],\n",
    "    pt_df['description'],\n",
    "    irpd_df['IP_UNIT_PRICE'],\n",
    "    irpd_df['IP_PRICE_MULTIPLE'],\n",
    "    irpd_df['IP_START_DATE'],\n",
    "    irpd_df['IP_END_DATE']\n",
    ")\n",
    "\n",
    "#aggregations\n",
    "result_df = df.group_by(\n",
    "    col('zonename'),\n",
    "    col('product_upc_13_cd'),\n",
    "    col('v_id')\n",
    ").agg(\n",
    "    mode(when(col('description') == 'Regular', col('IP_UNIT_PRICE'))).alias('IP_UNIT_PRICE'),\n",
    "    mode(when(col('description') == 'Regular', col('IP_PRICE_MULTIPLE'))).alias('IP_PRICE_MULTIPLE'),\n",
    "    mode(when(col('description') == 'Regular', col('IP_START_DATE'))).alias('IP_START_DATE'),\n",
    "    mode(when(col('description') == 'Regular', col('IP_END_DATE'))).alias('IP_END_DATE'),\n",
    "    count(when(col('description') == 'Regular', 1)).alias('STORE_COUNT'),\n",
    "\n",
    "    mode(when(col('description') != 'Regular', col('PT_DESCRIPTION'))).alias('PROMO_TYPE'),\n",
    "    mode(when(col('description') != 'Regular', col('IP_UNIT_PRICE'))).alias('PROMO_UNIT_PRICE'),\n",
    "    mode(when(col('description') != 'Regular', col('IP_PRICE_MULTIPLE'))).alias('PROMO_PRICE_MULTIPLE'),\n",
    "    mode(when(col('description') != 'Regular', col('IP_START_DATE'))).alias('PROMO_START_DATE'),\n",
    "    mode(when(col('description') != 'Regular', col('IP_END_DATE'))).alias('PROMO_END_DATE'),\n",
    "    count(when(col('description') != 'Regular', 1)).alias('PROMO_STORE_COUNT')\n",
    ")"
   ]
  },
  {
   "cell_type": "code",
   "execution_count": 37,
   "id": "4026275c",
   "metadata": {},
   "outputs": [
    {
     "name": "stdout",
     "output_type": "stream",
     "text": [
      "---------------------------------------------------------------------------------------------------------------------------------------------------------------------------------\n",
      "|\"ZONENAME\"  |\"PRODUCT_UPC_13_CD\"  |\"l_0106_V_ID\"  |\"r_0113_DESCRIPTION\"  |\"l_0106_IP_UNIT_PRICE\"  |\"l_0106_IP_PRICE_MULTIPLE\"  |\"l_0106_IP_START_DATE\"  |\"l_0106_IP_END_DATE\"  |\n",
      "---------------------------------------------------------------------------------------------------------------------------------------------------------------------------------\n",
      "|            |                     |               |                      |                        |                            |                        |                      |\n",
      "---------------------------------------------------------------------------------------------------------------------------------------------------------------------------------\n",
      "\n"
     ]
    }
   ],
   "source": [
    "df.show(10)"
   ]
  },
  {
   "cell_type": "code",
   "execution_count": 35,
   "id": "66dec158",
   "metadata": {},
   "outputs": [
    {
     "data": {
      "text/plain": [
       "<snowflake.snowpark.dataframe.DataFrame at 0x1d7899822c0>"
      ]
     },
     "execution_count": 35,
     "metadata": {},
     "output_type": "execute_result"
    }
   ],
   "source": [
    "df"
   ]
  },
  {
   "cell_type": "code",
   "execution_count": null,
   "id": "3dbb97d3",
   "metadata": {},
   "outputs": [],
   "source": []
  },
  {
   "cell_type": "code",
   "execution_count": 11,
   "id": "e44ff0eb",
   "metadata": {},
   "outputs": [
    {
     "data": {
      "text/plain": [
       "datetime.date(2025, 8, 23)"
      ]
     },
     "execution_count": 11,
     "metadata": {},
     "output_type": "execute_result"
    }
   ],
   "source": [
    "today = date.today()\n",
    "days_since_saturday = (today.weekday() - 5) % 7\n",
    "default_date = today - timedelta(days=days_since_saturday)\n",
    "default_date"
   ]
  },
  {
   "cell_type": "code",
   "execution_count": 2,
   "id": "fa4c05ac",
   "metadata": {},
   "outputs": [
    {
     "name": "stderr",
     "output_type": "stream",
     "text": [
      "2025-08-27 17:22:35.542 WARNING streamlit.runtime.scriptrunner_utils.script_run_context: Thread 'MainThread': missing ScriptRunContext! This warning can be ignored when running in bare mode.\n",
      "2025-08-27 17:22:36.048 \n",
      "  \u001b[33m\u001b[1mWarning:\u001b[0m to view this Streamlit app on a browser, run it with the following\n",
      "  command:\n",
      "\n",
      "    streamlit run c:\\Users\\212739\\OneDrive - SpartanNash\\Documents\\Data\\Streamlit\\Pricing App\\.venv\\lib\\site-packages\\ipykernel_launcher.py [ARGUMENTS]\n",
      "2025-08-27 17:22:36.048 Thread 'MainThread': missing ScriptRunContext! This warning can be ignored when running in bare mode.\n",
      "2025-08-27 17:22:36.048 Thread 'MainThread': missing ScriptRunContext! This warning can be ignored when running in bare mode.\n",
      "2025-08-27 17:22:36.048 Thread 'MainThread': missing ScriptRunContext! This warning can be ignored when running in bare mode.\n",
      "2025-08-27 17:22:36.557 Thread 'Thread-7': missing ScriptRunContext! This warning can be ignored when running in bare mode.\n",
      "2025-08-27 17:22:36.563 Thread 'Thread-7': missing ScriptRunContext! This warning can be ignored when running in bare mode.\n",
      "2025-08-27 17:22:36.563 Thread 'Thread-7': missing ScriptRunContext! This warning can be ignored when running in bare mode.\n",
      "2025-08-27 17:22:40.044 Thread 'MainThread': missing ScriptRunContext! This warning can be ignored when running in bare mode.\n",
      "2025-08-27 17:22:40.046 Thread 'MainThread': missing ScriptRunContext! This warning can be ignored when running in bare mode.\n",
      "2025-08-27 17:22:40.046 Thread 'MainThread': missing ScriptRunContext! This warning can be ignored when running in bare mode.\n"
     ]
    }
   ],
   "source": [
    "session = get_cached_session()"
   ]
  },
  {
   "cell_type": "code",
   "execution_count": 20,
   "id": "91172bdf",
   "metadata": {},
   "outputs": [],
   "source": [
    "df = session.table(\"SBX_BIZ.MARKETING.T_ITEM\").select(\n",
    "        col('\"Anchor Group ID\"'),\n",
    "        col('\"Item Description\"'),\n",
    "        col('\"Product UPC\"'),\n",
    "        col('\"Unit Size\"'),\n",
    "        col('\"Group ID\"'),\n",
    "        col('\"Category ID\"'),\n",
    "        col('\"Brand\"')\n",
    "    ).to_pandas()"
   ]
  },
  {
   "cell_type": "code",
   "execution_count": 15,
   "id": "54124a4d",
   "metadata": {},
   "outputs": [
    {
     "name": "stdout",
     "output_type": "stream",
     "text": [
      "----------------------------------------------------------------------------------------------------------------------------------------------------------------------------------------------------------------------------------------------------------------------------------------------------------------------------------------------------------------------------------------------------------------------------------------------------------------------------------------------------------------------------------------------------------------------------------------------------------------------------------------------------------------------------------------------------------------------------------------------------------------------------------------------------------------------------------------------------------------------------------------------------------------------------------------------------------------------------------------------------------------------------------------------------------------------------------------------------------------------------------------------------------------------------------------------------------------------------------------------------------------------------------------------------------------------------------------------------------------------------------------------------------------------------------------------------------------------------------------------------------------------------------------------------------------------------------------------------------------------------------------------------------------------------------------------------------------------------------------------------------------------------------------------------------------------------------------------------------------------------------------------------------------------------------------------------------------------------------------------------------------------------------------------------------------------------------------------------------------------------------------------------------------------------------------------------------------------------------------------------------------------------------------------------------------------------\n",
      "|\"ITEM_ID\"  |\"V_ID\"  |\"COST_ZONE\"  |\"PRICE_STRATEGY\"  |\"AD_GROUP\"  |\"STORE_ID\"  |\"IP_START_DATE\"      |\"PT_TYPE\"  |\"PRICE_LEVEL\"  |\"ITEM_PRICE_ID\"  |\"HOST_ID\"  |\"IP_START_TIME\"  |\"IP_END_DATE\"  |\"IP_END_TIME\"  |\"IP_PRICE_METHOD\"  |\"IP_PRICE_MULTIPLE\"  |\"IP_UNIT_PRICE\"  |\"IP_TARGET_GM\"  |\"IP_TARGET_GM_FLAG\"  |\"IP_GROSS_MARGIN\"  |\"CURRENCY_ID\"  |\"CURRENCY_CONVERSION_DATE\"  |\"GM_WITH_ADJUSTMENTS\"  |\"PRICE_W_VAT_MULT\"  |\"PRICE_W_VAT\"  |\"IP_PACKAGE_MULTIPLE\"  |\"IP_PACKAGE_PRICE\"  |\"IP_QUANTITY_LIMIT\"  |\"IP_PRICE_LEVEL_QTY\"  |\"IP_MINIMUM_ORDER\"  |\"RETAIL_DISC_MIN\"  |\"RET_DSC_PRICE_MULT\"  |\"IP_RETAIL_DISCOUNT\"  |\"RETAIL_DISC_FLAG\"  |\"IP_FREQUENT_BUYER\"  |\"IP_REPORT_CODE\"  |\"PROMOTIONAL_MSG\"  |\"EVENT_ID\"  |\"AD_INDICATOR\"  |\"AD_PAGE\"  |\"AD_LOCATION\"  |\"AD_STYLE\"  |\"SCALE_ITEM\"  |\"HOLD_PRICE\"  |\"RELEASE_HOLD_IN_PROGRESS\"  |\"LABEL_SCHEME\"  |\"LABEL_SCHEME_2\"  |\"PROMO_LINK_ID\"  |\"PROMO_LINK\"  |\"PROMO_CODE\"  |\"CTRL_CHK_FOR_MIN\"  |\"INV_SENSITIVE\"  |\"PRICE_QUANTITY\"  |\"MAX_VARIANCE\"  |\"EXTEND_PRICE_BY\"  |\"GENERATE_FOLLOW_ON\"  |\"EXTRA_TAG_SCHEME\"  |\"EXTRA_TAG_QTY\"  |\"IPOS_MIX_MATCH_CODE\"  |\"IP_WIC_ELIGIBLE\"  |\"OK_TO_DISCOUNT\"  |\"DISCOUNT_2_OK\"  |\"DISCOUNT_3_OK\"  |\"DISCOUNT_4_OK\"  |\"MIX_MATCH_DISCOUNT\"  |\"LIMITED_QUANTITY_DISCOUNT\"  |\"DISCOUNT_MSG_PRINT\"  |\"SALE_PRICE_OK\"  |\"SET_SALE_OK\"  |\"USE_PROMO_PRICE\"  |\"MANUALLY_WEIGH\"  |\"LIST_ID\"  |\"CREATE_GROUP_IDENT\"  |\"ENTRY_GROUP_IDENT\"  |\"UCOST_WITH_ADJUSTMENTS\"  |\"IP_CASE_COST\"  |\"YOUR_CASE_COST\"  |\"NET_CASE_COST\"  |\"BASED_ON_RETAIL\"  |\"BASED_ON_MULTIPLE\"  |\"GM_EFFECTIVE_DATE\"  |\"PRIORITY_PRICE_ID\"  |\"PROJECTED_MOVEMENT\"  |\"COUPON_FAVORS\"  |\"WGHTED_AVG_COST\"  |\"OPTIMIZATION_FACTOR\"  |\"PRICE_UOM\"  |\"COST_FOR_PG\"  |\"ADJ_APPLIED_AFTER_PG\"  |\"GM_WO_AFTER_PG\"  |\"IPOS_TAX_CLASS\"  |\"NET_GM\"  |\"YOUR_UCOST\"  |\"CHANGE_ID\"  |\"ORIGINAL_SOURCE\"  |\"CHANGE_SOURCE\"  |\"CHANGE_PROCESS\"  |\"RECORD_STATUS\"  |\"RECORD_STATUS_DATE\"        |\"CONTRACT_REF_ID\"  |\"MATCHING_ITEMS\"  |\"SMR_SCALE_LABEL_1_OVRD\"  |\"SMR_EXCLUDE_FROM_PROMOS\"  |\"GIVE_TO\"  |\"AMS_PRIORITY\"  |\"PROMO_DESCRIPTION\"  |\"PRMO_SEQUENCE\"  |\"SEGMENT_GROUP_ID\"  |\"POINT_PROGRAM_ID\"  |\"STORED_VALUE_PROGRAM_ID\"  |\"STORED_VALUE\"  |\"REDEEM_STORED_VALUE\"  |\"POINTS_VALUE\"  |\"GROUP_DISCOUNT_AMOUNT\"  |\"DISCOUNT_PER_POUND\"  |\"SN_IP_COMMENT\"  |\n",
      "----------------------------------------------------------------------------------------------------------------------------------------------------------------------------------------------------------------------------------------------------------------------------------------------------------------------------------------------------------------------------------------------------------------------------------------------------------------------------------------------------------------------------------------------------------------------------------------------------------------------------------------------------------------------------------------------------------------------------------------------------------------------------------------------------------------------------------------------------------------------------------------------------------------------------------------------------------------------------------------------------------------------------------------------------------------------------------------------------------------------------------------------------------------------------------------------------------------------------------------------------------------------------------------------------------------------------------------------------------------------------------------------------------------------------------------------------------------------------------------------------------------------------------------------------------------------------------------------------------------------------------------------------------------------------------------------------------------------------------------------------------------------------------------------------------------------------------------------------------------------------------------------------------------------------------------------------------------------------------------------------------------------------------------------------------------------------------------------------------------------------------------------------------------------------------------------------------------------------------------------------------------------------------------------------------------------------\n",
      "|1775       |4984    |99           |11                |0           |0           |2022-07-07 00:00:00  |1          |0              |112081912        |0          |NULL             |NULL           |NULL           |0                  |1                    |0.01             |NULL            |0                    |NULL               |NULL           |NULL                        |NULL                   |NULL                |NULL           |NULL                   |NULL                |NULL                 |NULL                  |NULL                |NULL               |NULL                  |NULL                  |0                   |NULL                 |NULL              |NULL               |NULL        |0               |NULL       |NULL           |NULL        |2             |0             |NULL                        |NULL            |NULL              |NULL             |0             |0             |NULL                |0                |NULL              |NULL            |NULL               |0                     |NULL                |NULL             |NULL                   |-1                 |-1                |-1               |-1               |-1               |-1                    |-1                           |-1                    |-1               |-1             |-1                 |-1                |NULL       |NULL                  |NULL                 |NULL                      |NULL            |NULL              |NULL             |NULL               |NULL                 |NULL                 |NULL                 |NULL                  |0                |NULL               |NULL                   |NULL         |NULL           |NULL                    |NULL              |NULL              |NULL      |NULL          |NULL         |1                  |3                |NULL              |1                |2022-07-07 13:00:57.867000  |NULL               |NULL              |NULL                      |NULL                       |NULL       |NULL            |NULL                 |NULL             |NULL                |NULL                |NULL                       |NULL            |NULL                   |NULL            |NULL                     |NULL                  |NULL             |\n",
      "|1776       |4984    |99           |11                |0           |0           |2022-07-07 00:00:00  |1          |0              |112081978        |0          |NULL             |NULL           |NULL           |0                  |1                    |0.01             |NULL            |0                    |NULL               |NULL           |NULL                        |NULL                   |NULL                |NULL           |NULL                   |NULL                |NULL                 |NULL                  |NULL                |NULL               |NULL                  |NULL                  |0                   |NULL                 |NULL              |NULL               |NULL        |0               |NULL       |NULL           |NULL        |2             |0             |NULL                        |NULL            |NULL              |NULL             |0             |0             |NULL                |0                |NULL              |NULL            |NULL               |0                     |NULL                |NULL             |NULL                   |-1                 |-1                |-1               |-1               |-1               |-1                    |-1                           |-1                    |-1               |-1             |-1                 |-1                |NULL       |NULL                  |NULL                 |NULL                      |NULL            |NULL              |NULL             |NULL               |NULL                 |NULL                 |NULL                 |NULL                  |0                |NULL               |NULL                   |NULL         |NULL           |NULL                    |NULL              |NULL              |NULL      |NULL          |NULL         |1                  |3                |NULL              |1                |2022-07-07 13:00:59.123000  |NULL               |NULL              |NULL                      |NULL                       |NULL       |NULL            |NULL                 |NULL             |NULL                |NULL                |NULL                       |NULL            |NULL                   |NULL            |NULL                     |NULL                  |NULL             |\n",
      "|1777       |4984    |99           |11                |0           |0           |2022-07-07 00:00:00  |1          |0              |112081582        |0          |NULL             |NULL           |NULL           |0                  |1                    |0.01             |NULL            |0                    |NULL               |NULL           |NULL                        |NULL                   |NULL                |NULL           |NULL                   |NULL                |NULL                 |NULL                  |NULL                |NULL               |NULL                  |NULL                  |0                   |NULL                 |NULL              |NULL               |NULL        |0               |NULL       |NULL           |NULL        |2             |0             |NULL                        |NULL            |NULL              |NULL             |0             |0             |NULL                |0                |NULL              |NULL            |NULL               |0                     |NULL                |NULL             |NULL                   |-1                 |-1                |-1               |-1               |-1               |-1                    |-1                           |-1                    |-1               |-1             |-1                 |-1                |NULL       |NULL                  |NULL                 |NULL                      |NULL            |NULL              |NULL             |NULL               |NULL                 |NULL                 |NULL                 |NULL                  |0                |NULL               |NULL                   |NULL         |NULL           |NULL                    |NULL              |NULL              |NULL      |NULL          |NULL         |1                  |3                |NULL              |1                |2022-07-07 13:00:51.527000  |NULL               |NULL              |NULL                      |NULL                       |NULL       |NULL            |NULL                 |NULL             |NULL                |NULL                |NULL                       |NULL            |NULL                   |NULL            |NULL                     |NULL                  |NULL             |\n",
      "|928831     |1409    |99           |11                |0           |0           |2022-06-20 00:00:00  |1          |0              |111228141        |0          |NULL             |NULL           |NULL           |0                  |1                    |0.01             |0.0             |0                    |-9900.0            |NULL           |NULL                        |-9900.0                |NULL                |0.01           |NULL                   |NULL                |NULL                 |NULL                  |NULL                |NULL               |NULL                  |NULL                  |0                   |NULL                 |NULL              |NULL               |NULL        |0               |NULL       |NULL           |NULL        |2             |0             |0                           |NULL            |NULL              |NULL             |0             |0             |NULL                |0                |NULL              |NULL            |NULL               |0                     |NULL                |NULL             |NULL                   |-1                 |-1                |-1               |-1               |-1               |-1                    |-1                           |-1                    |-1               |-1             |-1                 |-1                |NULL       |NULL                  |NULL                 |1.0                       |1.0             |1.0               |1.0              |NULL               |NULL                 |2022-06-20 00:00:00  |NULL                 |1                     |0                |NULL               |NULL                   |CT           |1.0            |-0.0                    |-9900.0           |NULL              |-9900.0   |1.0           |NULL         |1                  |3                |NULL              |2                |2022-06-20 23:39:18.927000  |NULL               |NULL              |NULL                      |NULL                       |NULL       |NULL            |NULL                 |NULL             |NULL                |NULL                |NULL                       |NULL            |NULL                   |NULL            |NULL                     |NULL                  |NULL             |\n",
      "|928831     |1556    |99           |11                |0           |0           |2022-06-21 00:00:00  |1          |0              |111234426        |0          |NULL             |NULL           |NULL           |0                  |1                    |0.01             |0.0             |0                    |-9900.0            |NULL           |NULL                        |-9900.0                |NULL                |0.01           |NULL                   |NULL                |NULL                 |NULL                  |NULL                |NULL               |NULL                  |NULL                  |0                   |NULL                 |NULL              |NULL               |NULL        |0               |NULL       |NULL           |NULL        |2             |0             |0                           |NULL            |NULL              |NULL             |0             |0             |NULL                |0                |NULL              |NULL            |NULL               |0                     |NULL                |NULL             |NULL                   |-1                 |-1                |-1               |-1               |-1               |-1                    |-1                           |-1                    |-1               |-1             |-1                 |-1                |NULL       |NULL                  |NULL                 |1.0                       |1.0             |1.0               |1.0              |NULL               |NULL                 |2022-06-21 00:00:00  |NULL                 |1                     |0                |NULL               |NULL                   |CT           |1.0            |-0.0                    |-9900.0           |NULL              |-9900.0   |1.0           |NULL         |1                  |3                |NULL              |2                |2022-06-21 00:11:10.913000  |NULL               |NULL              |NULL                      |NULL                       |NULL       |NULL            |NULL                 |NULL             |NULL                |NULL                |NULL                       |NULL            |NULL                   |NULL            |NULL                     |NULL                  |NULL             |\n",
      "|928831     |1632    |99           |11                |0           |0           |2022-06-21 00:00:00  |1          |0              |111234360        |0          |NULL             |NULL           |NULL           |0                  |1                    |0.01             |0.0             |0                    |-9900.0            |NULL           |NULL                        |-9900.0                |NULL                |0.01           |NULL                   |NULL                |NULL                 |NULL                  |NULL                |NULL               |NULL                  |NULL                  |0                   |NULL                 |NULL              |NULL               |NULL        |0               |NULL       |NULL           |NULL        |2             |0             |0                           |NULL            |NULL              |NULL             |0             |0             |NULL                |0                |NULL              |NULL            |NULL               |0                     |NULL                |NULL             |NULL                   |-1                 |-1                |-1               |-1               |-1               |-1                    |-1                           |-1                    |-1               |-1             |-1                 |-1                |NULL       |NULL                  |NULL                 |1.0                       |1.0             |1.0               |1.0              |NULL               |NULL                 |2022-06-21 00:00:00  |NULL                 |1                     |0                |NULL               |NULL                   |CT           |1.0            |-0.0                    |-9900.0           |NULL              |-9900.0   |1.0           |NULL         |1                  |3                |NULL              |2                |2022-06-21 00:11:09.553000  |NULL               |NULL              |NULL                      |NULL                       |NULL       |NULL            |NULL                 |NULL             |NULL                |NULL                |NULL                       |NULL            |NULL                   |NULL            |NULL                     |NULL                  |NULL             |\n",
      "|928778     |1482    |99           |11                |0           |0           |2022-06-21 00:00:00  |1          |0              |111233634        |0          |NULL             |NULL           |NULL           |0                  |1                    |0.01             |0.0             |0                    |-9900.0            |NULL           |NULL                        |-9900.0                |NULL                |0.01           |NULL                   |NULL                |NULL                 |NULL                  |NULL                |NULL               |NULL                  |NULL                  |0                   |NULL                 |NULL              |NULL               |NULL        |0               |NULL       |NULL           |NULL        |2             |0             |0                           |NULL            |NULL              |NULL             |0             |0             |NULL                |0                |NULL              |NULL            |NULL               |0                     |NULL                |NULL             |NULL                   |-1                 |-1                |-1               |-1               |-1               |-1                    |-1                           |-1                    |-1               |-1             |-1                 |-1                |NULL       |NULL                  |NULL                 |1.0                       |1.0             |1.0               |1.0              |NULL               |NULL                 |2022-06-21 00:00:00  |NULL                 |1                     |0                |NULL               |NULL                   |CT           |1.0            |-0.0                    |-9900.0           |NULL              |-9900.0   |1.0           |NULL         |1                  |3                |NULL              |2                |2022-06-21 00:10:55.847000  |NULL               |NULL              |NULL                      |NULL                       |NULL       |NULL            |NULL                 |NULL             |NULL                |NULL                |NULL                       |NULL            |NULL                   |NULL            |NULL                     |NULL                  |NULL             |\n",
      "|928778     |1483    |99           |11                |0           |0           |2022-06-21 00:00:00  |1          |0              |111231591        |0          |NULL             |NULL           |NULL           |0                  |1                    |0.01             |0.0             |0                    |-9900.0            |NULL           |NULL                        |-9900.0                |NULL                |0.01           |NULL                   |NULL                |NULL                 |NULL                  |NULL                |NULL               |NULL                  |NULL                  |0                   |NULL                 |NULL              |NULL               |NULL        |0               |NULL       |NULL           |NULL        |2             |0             |0                           |NULL            |NULL              |NULL             |0             |0             |NULL                |0                |NULL              |NULL            |NULL               |0                     |NULL                |NULL             |NULL                   |-1                 |-1                |-1               |-1               |-1               |-1                    |-1                           |-1                    |-1               |-1             |-1                 |-1                |NULL       |NULL                  |NULL                 |1.0                       |1.0             |1.0               |1.0              |NULL               |NULL                 |2022-06-21 00:00:00  |NULL                 |1                     |0                |NULL               |NULL                   |CT           |1.0            |-0.0                    |-9900.0           |NULL              |-9900.0   |1.0           |NULL         |1                  |3                |NULL              |2                |2022-06-21 00:10:22.447000  |NULL               |NULL              |NULL                      |NULL                       |NULL       |NULL            |NULL                 |NULL             |NULL                |NULL                |NULL                       |NULL            |NULL                   |NULL            |NULL                     |NULL                  |NULL             |\n",
      "|928778     |1527    |99           |11                |0           |0           |2022-06-21 00:00:00  |1          |0              |111231525        |0          |NULL             |NULL           |NULL           |0                  |1                    |0.01             |0.0             |0                    |-9900.0            |NULL           |NULL                        |-9900.0                |NULL                |0.01           |NULL                   |NULL                |NULL                 |NULL                  |NULL                |NULL               |NULL                  |NULL                  |0                   |NULL                 |NULL              |NULL               |NULL        |0               |NULL       |NULL           |NULL        |2             |0             |0                           |NULL            |NULL              |NULL             |0             |0             |NULL                |0                |NULL              |NULL            |NULL               |0                     |NULL                |NULL             |NULL                   |-1                 |-1                |-1               |-1               |-1               |-1                    |-1                           |-1                    |-1               |-1             |-1                 |-1                |NULL       |NULL                  |NULL                 |1.0                       |1.0             |1.0               |1.0              |NULL               |NULL                 |2022-06-21 00:00:00  |NULL                 |1                     |0                |NULL               |NULL                   |CT           |1.0            |-0.0                    |-9900.0           |NULL              |-9900.0   |1.0           |NULL         |1                  |3                |NULL              |2                |2022-06-21 00:10:21.273000  |NULL               |NULL              |NULL                      |NULL                       |NULL       |NULL            |NULL                 |NULL             |NULL                |NULL                |NULL                       |NULL            |NULL                   |NULL            |NULL                     |NULL                  |NULL             |\n",
      "|928778     |1536    |99           |11                |0           |0           |2022-06-21 00:00:00  |1          |0              |111231657        |0          |NULL             |NULL           |NULL           |0                  |1                    |0.01             |0.0             |0                    |-9900.0            |NULL           |NULL                        |-9900.0                |NULL                |0.01           |NULL                   |NULL                |NULL                 |NULL                  |NULL                |NULL               |NULL                  |NULL                  |0                   |NULL                 |NULL              |NULL               |NULL        |0               |NULL       |NULL           |NULL        |2             |0             |0                           |NULL            |NULL              |NULL             |0             |0             |NULL                |0                |NULL              |NULL            |NULL               |0                     |NULL                |NULL             |NULL                   |-1                 |-1                |-1               |-1               |-1               |-1                    |-1                           |-1                    |-1               |-1             |-1                 |-1                |NULL       |NULL                  |NULL                 |1.0                       |1.0             |1.0               |1.0              |NULL               |NULL                 |2022-06-21 00:00:00  |NULL                 |1                     |0                |NULL               |NULL                   |CT           |1.0            |-0.0                    |-9900.0           |NULL              |-9900.0   |1.0           |NULL         |1                  |3                |NULL              |2                |2022-06-21 00:10:23.590000  |NULL               |NULL              |NULL                      |NULL                       |NULL       |NULL            |NULL                 |NULL             |NULL                |NULL                |NULL                       |NULL            |NULL                   |NULL            |NULL                     |NULL                  |NULL             |\n",
      "----------------------------------------------------------------------------------------------------------------------------------------------------------------------------------------------------------------------------------------------------------------------------------------------------------------------------------------------------------------------------------------------------------------------------------------------------------------------------------------------------------------------------------------------------------------------------------------------------------------------------------------------------------------------------------------------------------------------------------------------------------------------------------------------------------------------------------------------------------------------------------------------------------------------------------------------------------------------------------------------------------------------------------------------------------------------------------------------------------------------------------------------------------------------------------------------------------------------------------------------------------------------------------------------------------------------------------------------------------------------------------------------------------------------------------------------------------------------------------------------------------------------------------------------------------------------------------------------------------------------------------------------------------------------------------------------------------------------------------------------------------------------------------------------------------------------------------------------------------------------------------------------------------------------------------------------------------------------------------------------------------------------------------------------------------------------------------------------------------------------------------------------------------------------------------------------------------------------------------------------------------------------------------------------------------------------------\n",
      "\n"
     ]
    }
   ],
   "source": [
    "item_prices_df = session.table('EDL.PHQ.ITEM_PRICE').filter(\n",
    "    (default_date >= to_date(col('IP_START_DATE'))) & \n",
    "        (default_date <= coalesce(to_date(col('IP_END_DATE')), lit('9999-12-31'))) &\n",
    "    (col('PRICE_STRATEGY') == 11) & \n",
    "    (col('RECORD_STATUS') != 3)\n",
    ")\n",
    "\n",
    "item_prices_df.show(10)"
   ]
  },
  {
   "cell_type": "code",
   "execution_count": 13,
   "id": "e9fc0398",
   "metadata": {},
   "outputs": [
    {
     "name": "stdout",
     "output_type": "stream",
     "text": [
      "----------------------------------------------------------------------------------------------------------------------------------------------------------------------------------------------------------------------------------------------------------------------------------------------------------------------------------------------------------------------------------------------------------------------------------------------------------------------------------------------------------------------------------------------------------------------------------------------------------------------------------------------------------------------------------------------------------------------------------------------------------------------------------------------------------------------------------------------------------------------------------------------------------------------------------------------------------------------------------------------------------------------------------------------------------------------------------------------------------------------------------------------------------------------------------------------------------------------------------------------------------------------------------------------------------------------------------------------------------------------------------------------------------------------------------------------------------------------------------------------------------------------------------------------------------------------------------------------------------------------------------------------------------------------------------------------------------------------------------------------------------------------------------------------------------------------------------------------------------------------------------------------------------------------------------------------------------------------------------------------------------------------------------------------------------------------------------------------------------------------------------------------------------------------------------------------------------------------------------------------------------------------------------------------------------------------------\n",
      "|\"ITEM_ID\"  |\"V_ID\"  |\"COST_ZONE\"  |\"PRICE_STRATEGY\"  |\"AD_GROUP\"  |\"STORE_ID\"  |\"IP_START_DATE\"      |\"PT_TYPE\"  |\"PRICE_LEVEL\"  |\"ITEM_PRICE_ID\"  |\"HOST_ID\"  |\"IP_START_TIME\"  |\"IP_END_DATE\"  |\"IP_END_TIME\"  |\"IP_PRICE_METHOD\"  |\"IP_PRICE_MULTIPLE\"  |\"IP_UNIT_PRICE\"  |\"IP_TARGET_GM\"  |\"IP_TARGET_GM_FLAG\"  |\"IP_GROSS_MARGIN\"  |\"CURRENCY_ID\"  |\"CURRENCY_CONVERSION_DATE\"  |\"GM_WITH_ADJUSTMENTS\"  |\"PRICE_W_VAT_MULT\"  |\"PRICE_W_VAT\"  |\"IP_PACKAGE_MULTIPLE\"  |\"IP_PACKAGE_PRICE\"  |\"IP_QUANTITY_LIMIT\"  |\"IP_PRICE_LEVEL_QTY\"  |\"IP_MINIMUM_ORDER\"  |\"RETAIL_DISC_MIN\"  |\"RET_DSC_PRICE_MULT\"  |\"IP_RETAIL_DISCOUNT\"  |\"RETAIL_DISC_FLAG\"  |\"IP_FREQUENT_BUYER\"  |\"IP_REPORT_CODE\"  |\"PROMOTIONAL_MSG\"  |\"EVENT_ID\"  |\"AD_INDICATOR\"  |\"AD_PAGE\"  |\"AD_LOCATION\"  |\"AD_STYLE\"  |\"SCALE_ITEM\"  |\"HOLD_PRICE\"  |\"RELEASE_HOLD_IN_PROGRESS\"  |\"LABEL_SCHEME\"  |\"LABEL_SCHEME_2\"  |\"PROMO_LINK_ID\"  |\"PROMO_LINK\"  |\"PROMO_CODE\"  |\"CTRL_CHK_FOR_MIN\"  |\"INV_SENSITIVE\"  |\"PRICE_QUANTITY\"  |\"MAX_VARIANCE\"  |\"EXTEND_PRICE_BY\"  |\"GENERATE_FOLLOW_ON\"  |\"EXTRA_TAG_SCHEME\"  |\"EXTRA_TAG_QTY\"  |\"IPOS_MIX_MATCH_CODE\"  |\"IP_WIC_ELIGIBLE\"  |\"OK_TO_DISCOUNT\"  |\"DISCOUNT_2_OK\"  |\"DISCOUNT_3_OK\"  |\"DISCOUNT_4_OK\"  |\"MIX_MATCH_DISCOUNT\"  |\"LIMITED_QUANTITY_DISCOUNT\"  |\"DISCOUNT_MSG_PRINT\"  |\"SALE_PRICE_OK\"  |\"SET_SALE_OK\"  |\"USE_PROMO_PRICE\"  |\"MANUALLY_WEIGH\"  |\"LIST_ID\"  |\"CREATE_GROUP_IDENT\"  |\"ENTRY_GROUP_IDENT\"  |\"UCOST_WITH_ADJUSTMENTS\"  |\"IP_CASE_COST\"  |\"YOUR_CASE_COST\"  |\"NET_CASE_COST\"  |\"BASED_ON_RETAIL\"  |\"BASED_ON_MULTIPLE\"  |\"GM_EFFECTIVE_DATE\"  |\"PRIORITY_PRICE_ID\"  |\"PROJECTED_MOVEMENT\"  |\"COUPON_FAVORS\"  |\"WGHTED_AVG_COST\"  |\"OPTIMIZATION_FACTOR\"  |\"PRICE_UOM\"  |\"COST_FOR_PG\"  |\"ADJ_APPLIED_AFTER_PG\"  |\"GM_WO_AFTER_PG\"  |\"IPOS_TAX_CLASS\"  |\"NET_GM\"  |\"YOUR_UCOST\"  |\"CHANGE_ID\"  |\"ORIGINAL_SOURCE\"  |\"CHANGE_SOURCE\"  |\"CHANGE_PROCESS\"  |\"RECORD_STATUS\"  |\"RECORD_STATUS_DATE\"        |\"CONTRACT_REF_ID\"  |\"MATCHING_ITEMS\"  |\"SMR_SCALE_LABEL_1_OVRD\"  |\"SMR_EXCLUDE_FROM_PROMOS\"  |\"GIVE_TO\"  |\"AMS_PRIORITY\"  |\"PROMO_DESCRIPTION\"  |\"PRMO_SEQUENCE\"  |\"SEGMENT_GROUP_ID\"  |\"POINT_PROGRAM_ID\"  |\"STORED_VALUE_PROGRAM_ID\"  |\"STORED_VALUE\"  |\"REDEEM_STORED_VALUE\"  |\"POINTS_VALUE\"  |\"GROUP_DISCOUNT_AMOUNT\"  |\"DISCOUNT_PER_POUND\"  |\"SN_IP_COMMENT\"  |\n",
      "----------------------------------------------------------------------------------------------------------------------------------------------------------------------------------------------------------------------------------------------------------------------------------------------------------------------------------------------------------------------------------------------------------------------------------------------------------------------------------------------------------------------------------------------------------------------------------------------------------------------------------------------------------------------------------------------------------------------------------------------------------------------------------------------------------------------------------------------------------------------------------------------------------------------------------------------------------------------------------------------------------------------------------------------------------------------------------------------------------------------------------------------------------------------------------------------------------------------------------------------------------------------------------------------------------------------------------------------------------------------------------------------------------------------------------------------------------------------------------------------------------------------------------------------------------------------------------------------------------------------------------------------------------------------------------------------------------------------------------------------------------------------------------------------------------------------------------------------------------------------------------------------------------------------------------------------------------------------------------------------------------------------------------------------------------------------------------------------------------------------------------------------------------------------------------------------------------------------------------------------------------------------------------------------------------------------------\n",
      "|928803     |2112    |99           |11                |0           |0           |2022-06-20 00:00:00  |1          |0              |111223521        |0          |NULL             |NULL           |NULL           |0                  |1                    |0.01             |39.0            |0                    |-9900.0            |NULL           |NULL                        |-9900.0                |NULL                |0.01           |NULL                   |NULL                |NULL                 |NULL                  |NULL                |NULL               |NULL                  |NULL                  |0                   |NULL                 |NULL              |NULL               |NULL        |0               |NULL       |NULL           |NULL        |2             |0             |0                           |NULL            |NULL              |NULL             |0             |0             |NULL                |0                |NULL              |NULL            |NULL               |0                     |NULL                |NULL             |NULL                   |-1                 |-1                |-1               |-1               |-1               |-1                    |-1                           |-1                    |-1               |-1             |-1                 |-1                |NULL       |NULL                  |NULL                 |1.0                       |1.0             |1.0               |1.0              |NULL               |NULL                 |2022-06-20 00:00:00  |NULL                 |1                     |0                |NULL               |NULL                   |CT           |1.0            |-0.0                    |-9900.0           |NULL              |-9900.0   |1.0           |NULL         |1                  |3                |NULL              |2                |2022-06-20 23:34:15.023000  |NULL               |NULL              |NULL                      |NULL                       |NULL       |NULL            |NULL                 |NULL             |NULL                |NULL                |NULL                       |NULL            |NULL                   |NULL            |NULL                     |NULL                  |NULL             |\n",
      "|928803     |2127    |99           |11                |0           |0           |2022-06-20 00:00:00  |1          |0              |111223389        |0          |NULL             |NULL           |NULL           |0                  |1                    |0.01             |39.0            |0                    |-9900.0            |NULL           |NULL                        |-9900.0                |NULL                |0.01           |NULL                   |NULL                |NULL                 |NULL                  |NULL                |NULL               |NULL                  |NULL                  |0                   |NULL                 |NULL              |NULL               |NULL        |0               |NULL       |NULL           |NULL        |2             |0             |0                           |NULL            |NULL              |NULL             |0             |0             |NULL                |0                |NULL              |NULL            |NULL               |0                     |NULL                |NULL             |NULL                   |-1                 |-1                |-1               |-1               |-1               |-1                    |-1                           |-1                    |-1               |-1             |-1                 |-1                |NULL       |NULL                  |NULL                 |1.0                       |1.0             |1.0               |1.0              |NULL               |NULL                 |2022-06-20 00:00:00  |NULL                 |1                     |0                |NULL               |NULL                   |CT           |1.0            |-0.0                    |-9900.0           |NULL              |-9900.0   |1.0           |NULL         |1                  |3                |NULL              |2                |2022-06-20 23:34:06.370000  |NULL               |NULL              |NULL                      |NULL                       |NULL       |NULL            |NULL                 |NULL             |NULL                |NULL                |NULL                       |NULL            |NULL                   |NULL            |NULL                     |NULL                  |NULL             |\n",
      "|928803     |2560    |99           |11                |0           |0           |2022-06-20 00:00:00  |1          |0              |111223455        |0          |NULL             |NULL           |NULL           |0                  |1                    |0.01             |39.0            |0                    |-9900.0            |NULL           |NULL                        |-9900.0                |NULL                |0.01           |NULL                   |NULL                |NULL                 |NULL                  |NULL                |NULL               |NULL                  |NULL                  |0                   |NULL                 |NULL              |NULL               |NULL        |0               |NULL       |NULL           |NULL        |2             |0             |0                           |NULL            |NULL              |NULL             |0             |0             |NULL                |0                |NULL              |NULL            |NULL               |0                     |NULL                |NULL             |NULL                   |-1                 |-1                |-1               |-1               |-1               |-1                    |-1                           |-1                    |-1               |-1             |-1                 |-1                |NULL       |NULL                  |NULL                 |1.0                       |1.0             |1.0               |1.0              |NULL               |NULL                 |2022-06-20 00:00:00  |NULL                 |1                     |0                |NULL               |NULL                   |CT           |1.0            |-0.0                    |-9900.0           |NULL              |-9900.0   |1.0           |NULL         |1                  |3                |NULL              |2                |2022-06-20 23:34:09.730000  |NULL               |NULL              |NULL                      |NULL                       |NULL       |NULL            |NULL                 |NULL             |NULL                |NULL                |NULL                       |NULL            |NULL                   |NULL            |NULL                     |NULL                  |NULL             |\n",
      "|928831     |1409    |99           |11                |0           |0           |2022-06-20 00:00:00  |1          |0              |111228141        |0          |NULL             |NULL           |NULL           |0                  |1                    |0.01             |0.0             |0                    |-9900.0            |NULL           |NULL                        |-9900.0                |NULL                |0.01           |NULL                   |NULL                |NULL                 |NULL                  |NULL                |NULL               |NULL                  |NULL                  |0                   |NULL                 |NULL              |NULL               |NULL        |0               |NULL       |NULL           |NULL        |2             |0             |0                           |NULL            |NULL              |NULL             |0             |0             |NULL                |0                |NULL              |NULL            |NULL               |0                     |NULL                |NULL             |NULL                   |-1                 |-1                |-1               |-1               |-1               |-1                    |-1                           |-1                    |-1               |-1             |-1                 |-1                |NULL       |NULL                  |NULL                 |1.0                       |1.0             |1.0               |1.0              |NULL               |NULL                 |2022-06-20 00:00:00  |NULL                 |1                     |0                |NULL               |NULL                   |CT           |1.0            |-0.0                    |-9900.0           |NULL              |-9900.0   |1.0           |NULL         |1                  |3                |NULL              |2                |2022-06-20 23:39:18.927000  |NULL               |NULL              |NULL                      |NULL                       |NULL       |NULL            |NULL                 |NULL             |NULL                |NULL                |NULL                       |NULL            |NULL                   |NULL            |NULL                     |NULL                  |NULL             |\n",
      "|928831     |1556    |99           |11                |0           |0           |2022-06-21 00:00:00  |1          |0              |111234426        |0          |NULL             |NULL           |NULL           |0                  |1                    |0.01             |0.0             |0                    |-9900.0            |NULL           |NULL                        |-9900.0                |NULL                |0.01           |NULL                   |NULL                |NULL                 |NULL                  |NULL                |NULL               |NULL                  |NULL                  |0                   |NULL                 |NULL              |NULL               |NULL        |0               |NULL       |NULL           |NULL        |2             |0             |0                           |NULL            |NULL              |NULL             |0             |0             |NULL                |0                |NULL              |NULL            |NULL               |0                     |NULL                |NULL             |NULL                   |-1                 |-1                |-1               |-1               |-1               |-1                    |-1                           |-1                    |-1               |-1             |-1                 |-1                |NULL       |NULL                  |NULL                 |1.0                       |1.0             |1.0               |1.0              |NULL               |NULL                 |2022-06-21 00:00:00  |NULL                 |1                     |0                |NULL               |NULL                   |CT           |1.0            |-0.0                    |-9900.0           |NULL              |-9900.0   |1.0           |NULL         |1                  |3                |NULL              |2                |2022-06-21 00:11:10.913000  |NULL               |NULL              |NULL                      |NULL                       |NULL       |NULL            |NULL                 |NULL             |NULL                |NULL                |NULL                       |NULL            |NULL                   |NULL            |NULL                     |NULL                  |NULL             |\n",
      "|928831     |1632    |99           |11                |0           |0           |2022-06-21 00:00:00  |1          |0              |111234360        |0          |NULL             |NULL           |NULL           |0                  |1                    |0.01             |0.0             |0                    |-9900.0            |NULL           |NULL                        |-9900.0                |NULL                |0.01           |NULL                   |NULL                |NULL                 |NULL                  |NULL                |NULL               |NULL                  |NULL                  |0                   |NULL                 |NULL              |NULL               |NULL        |0               |NULL       |NULL           |NULL        |2             |0             |0                           |NULL            |NULL              |NULL             |0             |0             |NULL                |0                |NULL              |NULL            |NULL               |0                     |NULL                |NULL             |NULL                   |-1                 |-1                |-1               |-1               |-1               |-1                    |-1                           |-1                    |-1               |-1             |-1                 |-1                |NULL       |NULL                  |NULL                 |1.0                       |1.0             |1.0               |1.0              |NULL               |NULL                 |2022-06-21 00:00:00  |NULL                 |1                     |0                |NULL               |NULL                   |CT           |1.0            |-0.0                    |-9900.0           |NULL              |-9900.0   |1.0           |NULL         |1                  |3                |NULL              |2                |2022-06-21 00:11:09.553000  |NULL               |NULL              |NULL                      |NULL                       |NULL       |NULL            |NULL                 |NULL             |NULL                |NULL                |NULL                       |NULL            |NULL                   |NULL            |NULL                     |NULL                  |NULL             |\n",
      "|1616       |1420    |1            |11                |0           |0           |2025-04-24 00:00:00  |1          |0              |240267824        |0          |NULL             |NULL           |NULL           |0                  |1                    |8.95             |0.0             |0                    |99.8899994         |NULL           |NULL                        |99.89                  |1                   |8.95           |NULL                   |NULL                |NULL                 |NULL                  |NULL                |NULL               |1                     |NULL                  |2                   |NULL                 |NULL              |NULL               |NULL        |0               |NULL       |NULL           |NULL        |2             |0             |0                           |NULL            |NULL              |NULL             |NULL          |0             |NULL                |0                |NULL              |NULL            |NULL               |0                     |NULL                |NULL             |NULL                   |-1                 |-1                |-1               |-1               |-1               |-1                    |-1                           |-1                    |-1               |-1             |-1                 |-1                |NULL       |NULL                  |NULL                 |0.01                      |0.01            |0.01              |0.01             |NULL               |NULL                 |2025-04-24 00:00:00  |NULL                 |1                     |0                |NULL               |NULL                   |CT           |0.01           |-0.0                    |99.89             |NULL              |99.89     |0.01          |188          |1                  |1                |NULL              |2                |2025-05-02 09:19:38.333000  |NULL               |NULL              |NULL                      |NULL                       |0          |NULL            |NULL                 |NULL             |NULL                |NULL                |NULL                       |NULL            |0                      |NULL            |NULL                     |0                     |NULL             |\n",
      "|5645510    |4984    |99           |11                |0           |0           |2024-11-06 00:00:00  |1          |0              |217631975        |0          |NULL             |NULL           |NULL           |0                  |1                    |0.0              |0.0             |0                    |0.0                |NULL           |NULL                        |0.0                    |1                   |0.0            |NULL                   |NULL                |NULL                 |NULL                  |NULL                |NULL               |1                     |NULL                  |2                   |NULL                 |NULL              |NULL               |NULL        |0               |NULL       |NULL           |NULL        |2             |0             |0                           |NULL            |NULL              |NULL             |NULL          |0             |NULL                |0                |NULL              |NULL            |NULL               |0                     |NULL                |NULL             |NULL                   |-1                 |-1                |-1               |-1               |-1               |-1                    |-1                           |-1                    |-1               |-1             |-1                 |-1                |NULL       |NULL                  |NULL                 |0.0                       |0.0             |0.0               |0.0              |NULL               |NULL                 |2024-11-06 00:00:00  |NULL                 |1                     |0                |NULL               |NULL                   |ZZZ          |0.0            |-0.0                    |0.0               |NULL              |0.0       |0.0           |1028         |1                  |1                |NULL              |1                |2024-11-07 14:42:28.957000  |NULL               |NULL              |NULL                      |NULL                       |0          |NULL            |NULL                 |NULL             |NULL                |NULL                |NULL                       |NULL            |0                      |NULL            |NULL                     |0                     |NULL             |\n",
      "|928778     |1482    |99           |11                |0           |0           |2022-06-21 00:00:00  |1          |0              |111233634        |0          |NULL             |NULL           |NULL           |0                  |1                    |0.01             |0.0             |0                    |-9900.0            |NULL           |NULL                        |-9900.0                |NULL                |0.01           |NULL                   |NULL                |NULL                 |NULL                  |NULL                |NULL               |NULL                  |NULL                  |0                   |NULL                 |NULL              |NULL               |NULL        |0               |NULL       |NULL           |NULL        |2             |0             |0                           |NULL            |NULL              |NULL             |0             |0             |NULL                |0                |NULL              |NULL            |NULL               |0                     |NULL                |NULL             |NULL                   |-1                 |-1                |-1               |-1               |-1               |-1                    |-1                           |-1                    |-1               |-1             |-1                 |-1                |NULL       |NULL                  |NULL                 |1.0                       |1.0             |1.0               |1.0              |NULL               |NULL                 |2022-06-21 00:00:00  |NULL                 |1                     |0                |NULL               |NULL                   |CT           |1.0            |-0.0                    |-9900.0           |NULL              |-9900.0   |1.0           |NULL         |1                  |3                |NULL              |2                |2022-06-21 00:10:55.847000  |NULL               |NULL              |NULL                      |NULL                       |NULL       |NULL            |NULL                 |NULL             |NULL                |NULL                |NULL                       |NULL            |NULL                   |NULL            |NULL                     |NULL                  |NULL             |\n",
      "|928778     |1483    |99           |11                |0           |0           |2022-06-21 00:00:00  |1          |0              |111231591        |0          |NULL             |NULL           |NULL           |0                  |1                    |0.01             |0.0             |0                    |-9900.0            |NULL           |NULL                        |-9900.0                |NULL                |0.01           |NULL                   |NULL                |NULL                 |NULL                  |NULL                |NULL               |NULL                  |NULL                  |0                   |NULL                 |NULL              |NULL               |NULL        |0               |NULL       |NULL           |NULL        |2             |0             |0                           |NULL            |NULL              |NULL             |0             |0             |NULL                |0                |NULL              |NULL            |NULL               |0                     |NULL                |NULL             |NULL                   |-1                 |-1                |-1               |-1               |-1               |-1                    |-1                           |-1                    |-1               |-1             |-1                 |-1                |NULL       |NULL                  |NULL                 |1.0                       |1.0             |1.0               |1.0              |NULL               |NULL                 |2022-06-21 00:00:00  |NULL                 |1                     |0                |NULL               |NULL                   |CT           |1.0            |-0.0                    |-9900.0           |NULL              |-9900.0   |1.0           |NULL         |1                  |3                |NULL              |2                |2022-06-21 00:10:22.447000  |NULL               |NULL              |NULL                      |NULL                       |NULL       |NULL            |NULL                 |NULL             |NULL                |NULL                |NULL                       |NULL            |NULL                   |NULL            |NULL                     |NULL                  |NULL             |\n",
      "----------------------------------------------------------------------------------------------------------------------------------------------------------------------------------------------------------------------------------------------------------------------------------------------------------------------------------------------------------------------------------------------------------------------------------------------------------------------------------------------------------------------------------------------------------------------------------------------------------------------------------------------------------------------------------------------------------------------------------------------------------------------------------------------------------------------------------------------------------------------------------------------------------------------------------------------------------------------------------------------------------------------------------------------------------------------------------------------------------------------------------------------------------------------------------------------------------------------------------------------------------------------------------------------------------------------------------------------------------------------------------------------------------------------------------------------------------------------------------------------------------------------------------------------------------------------------------------------------------------------------------------------------------------------------------------------------------------------------------------------------------------------------------------------------------------------------------------------------------------------------------------------------------------------------------------------------------------------------------------------------------------------------------------------------------------------------------------------------------------------------------------------------------------------------------------------------------------------------------------------------------------------------------------------------------------------------\n",
      "\n"
     ]
    }
   ],
   "source": [
    "item_prices_df = session.table('EDL.PHQ.ITEM_PRICE').filter(\n",
    "    (col('PRICE_STRATEGY') == 11) & \n",
    "    (col('RECORD_STATUS') != 3)\n",
    ")\n",
    "\n",
    "item_prices_df.show(10)"
   ]
  }
 ],
 "metadata": {
  "kernelspec": {
   "display_name": ".venv",
   "language": "python",
   "name": "python3"
  },
  "language_info": {
   "codemirror_mode": {
    "name": "ipython",
    "version": 3
   },
   "file_extension": ".py",
   "mimetype": "text/x-python",
   "name": "python",
   "nbconvert_exporter": "python",
   "pygments_lexer": "ipython3",
   "version": "3.10.11"
  }
 },
 "nbformat": 4,
 "nbformat_minor": 5
}
